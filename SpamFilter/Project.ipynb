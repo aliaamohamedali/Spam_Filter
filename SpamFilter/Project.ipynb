{
 "cells": [
  {
   "cell_type": "code",
   "execution_count": 1,
   "metadata": {},
   "outputs": [],
   "source": [
    "import os, re\n",
    "import email\n",
    "import nltk\n",
    "import pandas as pd\n",
    "import numpy as np\n",
    "from sklearn.naive_bayes import MultinomialNB, BernoulliNB \n",
    "from sklearn.svm import LinearSVC, SVC \n",
    "from sklearn import metrics\n",
    "from sklearn.metrics import confusion_matrix \n",
    "from nltk.corpus import stopwords \n",
    "from os import path\n",
    "from collections import Counter"
   ]
  },
  {
   "cell_type": "code",
   "execution_count": 2,
   "metadata": {},
   "outputs": [],
   "source": [
    "TRAIN_DATA_PATH = 'Data\\Train'\n",
    "CROSSVAL_DATA_PATH = 'Data\\CrossVal'\n",
    "STOP_WORDS = set(stopwords.words('English'))\n",
    "DELIMITERS = [',', '.', '!', '?', '/', '&', '-', ':', ';', '@', '\"', \"'\", '#', '*', '+','=', '[', ']', '(', ')', '{', '}', '%', '<', '>']"
   ]
  },
  {
   "cell_type": "code",
   "execution_count": 3,
   "metadata": {},
   "outputs": [],
   "source": [
    "VOCAB_SIZE = 3000\n",
    "vocabulary = []"
   ]
  },
  {
   "cell_type": "code",
   "execution_count": 4,
   "metadata": {},
   "outputs": [],
   "source": [
    "def extract_email_body(email_path):\n",
    "    email_content = email.message_from_file(open(email_path))\n",
    "    text = None\n",
    "    if email_content.is_multipart():\n",
    "        html = None\n",
    "        for part in email_content.get_payload():\n",
    "            if part.get_content_charset() is None:\n",
    "                text = str(part.get_payload())\n",
    "                continue\n",
    "            charset = part.get_content_charset()\n",
    "        \n",
    "            if part.get_content_type() == 'text/plain':\n",
    "                text = str(part.get_payload())\n",
    "            \n",
    "            if part.get_content_type() == 'text/html':\n",
    "                html = str(part.get_payload())\n",
    "            ## Should be indented out               \n",
    "        if text is not None:\n",
    "            return text.strip()\n",
    "        else:\n",
    "            return html.strip()   \n",
    "            \n",
    "    else:\n",
    "        text  = str(email_content.get_payload())\n",
    "        return text.strip()"
   ]
  },
  {
   "cell_type": "code",
   "execution_count": 5,
   "metadata": {},
   "outputs": [
    {
     "name": "stdout",
     "output_type": "stream",
     "text": [
      "-----BEGIN PGP SIGNATURE-----\n",
      "Version: GnuPG v1.4.10 (GNU/Linux)\n",
      "\n",
      "iEYEABECAAYFAku/UegACgkQmRvqrKWZhMezcwCgn61eFAoTG8blmc/IbhgpHC2i\n",
      "QGQAn31TKsN5jiNDUMFNiJwZsAr6tc6D\n",
      "=S78v\n",
      "-----END PGP SIGNATURE-----\n"
     ]
    }
   ],
   "source": [
    "email_body = extract_email_body('Data\\Train\\ham\\\\1011.eml')\n",
    "email_body = re.sub(r\"<.*?>\", \"\", email_body)\n",
    "print(email_body)"
   ]
  },
  {
   "cell_type": "code",
   "execution_count": 6,
   "metadata": {},
   "outputs": [],
   "source": [
    "def process_email(email_body):\n",
    "    ### Takes full body of email\n",
    "    ### Returns Dictionary of email words and their counts \n",
    "    \n",
    "    email_words = []\n",
    "    ## Dictionary to Return\n",
    "    email_word_counts = None\n",
    "    \n",
    "    ## Remove html\n",
    "    email_body = re.sub(r\"<.*?>\", \"\", email_body)\n",
    "    ## Handle http\n",
    "    email_body = re.sub(r\"(http|https)://[^\\s]*\", \"httpaddr\", email_body)\n",
    "    ## Handle Email Addresses\n",
    "    email_body = re.sub(r\"[^\\s]+@[^\\s]+\", \"emailaddr\", email_body)\n",
    "    ## Handle Numbers\n",
    "    email_body = re.sub(r\"\\s+[0-9]+\\s+\", \"num\", email_body)\n",
    "    \n",
    "    words = email_body.strip().split()\n",
    "    email_words.extend(''.join(w for w in word.lower() if w not in DELIMITERS) for word in words)\n",
    "    email_word_counts = Counter(email_words)\n",
    "    \n",
    "    email_word_counts.pop('', None)\n",
    "    \n",
    "    for stop_word in STOP_WORDS: \n",
    "        email_word_counts.pop(stop_word, None)\n",
    "    \n",
    "    return email_words, email_word_counts"
   ]
  },
  {
   "cell_type": "code",
   "execution_count": 7,
   "metadata": {},
   "outputs": [
    {
     "name": "stdout",
     "output_type": "stream",
     "text": [
      "Counter({'pgp': 2, 'signature': 2, 'begin': 1, 'version': 1, 'gnupg': 1, 'v1410': 1, 'gnulinux': 1, 'ieyeabecaayfakuuegacgkqmrvqrkwzhmezcwcgn61efaotg8blmcibhgphc2i': 1, 'qgqan31tksn5jindumfnijwzsar6tc6d': 1, 's78v': 1, 'end': 1})\n"
     ]
    }
   ],
   "source": [
    "email_words, email_word_counts = process_email(email_body)\n",
    "print(email_word_counts)"
   ]
  },
  {
   "cell_type": "code",
   "execution_count": 8,
   "metadata": {},
   "outputs": [],
   "source": [
    "def construct_vocabulary(data_directory):\n",
    "    ### Takes Input path to (training) data \n",
    "    ### Return list of vocabulary (Most common N words where N = VOCAB_SIZE)\n",
    "\n",
    "    all_words = []\n",
    "    all_word_counts = None\n",
    "    \n",
    "    for email_class in os.listdir(data_directory):\n",
    "        email_class_path = path.join(data_directory, email_class)\n",
    "        for email in os.listdir(email_class_path):\n",
    "            email_path = path.join(email_class_path, email)\n",
    "            email_body = extract_email_body(email_path)\n",
    "            email_words, email_word_counts = process_email(email_body)\n",
    "        \n",
    "            all_words.extend(email_words)\n",
    "            \n",
    "    all_word_counts = Counter(all_words) \n",
    "    \n",
    "    all_word_counts.pop('', None)\n",
    "    \n",
    "    for stop_word in STOP_WORDS: \n",
    "        all_word_counts.pop(stop_word, None)\n",
    "    \n",
    "    return np.array(all_word_counts.most_common(VOCAB_SIZE))[:, 0]"
   ]
  },
  {
   "cell_type": "code",
   "execution_count": 9,
   "metadata": {},
   "outputs": [
    {
     "name": "stdout",
     "output_type": "stream",
     "text": [
      "['httpaddr' 'emailaddr' 'email' ... 'experimental' 'upstream' 'contacts']\n"
     ]
    }
   ],
   "source": [
    "vocabulary = construct_vocabulary(TRAIN_DATA_PATH)\n",
    "print(vocabulary)"
   ]
  },
  {
   "cell_type": "code",
   "execution_count": 10,
   "metadata": {},
   "outputs": [],
   "source": [
    "def extract_email_features(email_path, model = 'svm'):\n",
    "    ### Takes path to an email file\n",
    "    ### Returns feature vector of email\n",
    "    email_body = extract_email_body(email_path)\n",
    "    _ , email_word_counts = process_email(email_body)\n",
    "    \n",
    "    feature_vector = []\n",
    "    \n",
    "    ## For SVM and multinomial NB - we add word count to  feature vector \n",
    "    if model == 'svm' or model == 'multinomialNB':\n",
    "        for word in vocabulary:\n",
    "            feature_vector.extend([email_word_counts.get(word, 0)])\n",
    "    ## For bernouolli bNB - we add 1 if word in email and 0 otherwise        \n",
    "    elif model == 'bernoulliNB':\n",
    "        for word in vocabulary:\n",
    "            if word in email_word_counts:\n",
    "                feature_vector.extend([1])\n",
    "            else:\n",
    "                feature_vector.extend([0])\n",
    "    else:\n",
    "        print('No support for such model')\n",
    "    return feature_vector            "
   ]
  },
  {
   "cell_type": "code",
   "execution_count": 11,
   "metadata": {},
   "outputs": [
    {
     "name": "stdout",
     "output_type": "stream",
     "text": [
      "[0, 0, 1, 0, 0, 0, 0, 1, 0, 0, 5, 0, 1, 4, 1, 0, 0, 0, 0, 0, 0, 0, 1, 4, 0, 1, 5, 0, 1, 0, 2, 0, 0, 0, 0, 1, 0, 0, 0, 0, 0, 2, 0, 1, 0, 0, 0, 2, 2, 1, 4, 0, 0, 1, 1, 0, 1, 1, 0, 0, 1, 0, 0, 0, 0, 0, 0, 0, 0, 0, 0, 0, 0, 0, 0, 0, 0, 0, 1, 0, 0, 0, 3, 0, 0, 0, 0, 1, 0, 0, 2, 6, 0, 0, 0, 0, 1, 0, 0, 0, 2, 0, 0, 0, 0, 0, 1, 0, 0, 0, 0, 0, 0, 0, 0, 0, 3, 0, 3, 0, 3, 0, 0, 0, 0, 1, 0, 0, 1, 0, 0, 0, 0, 0, 0, 0, 0, 0, 0, 0, 0, 0, 0, 0, 0, 0, 0, 0, 0, 0, 0, 0, 0, 1, 0, 0, 0, 0, 0, 2, 0, 0, 0, 0, 0, 0, 1, 0, 0, 0, 0, 0, 0, 0, 0, 0, 0, 0, 0, 0, 0, 0, 1, 2, 0, 0, 0, 0, 0, 0, 0, 1, 1, 0, 0, 0, 0, 0, 0, 0, 0, 1, 1, 0, 0, 0, 0, 0, 1, 0, 0, 2, 0, 0, 1, 0, 0, 0, 0, 0, 0, 0, 0, 0, 0, 0, 1, 0, 0, 0, 0, 0, 1, 0, 0, 0, 0, 0, 1, 0, 0, 0, 0, 0, 0, 0, 0, 0, 1, 0, 0, 0, 0, 0, 0, 0, 0, 0, 0, 0, 0, 0, 1, 0, 0, 0, 0, 0, 0, 1, 0, 0, 1, 0, 0, 0, 0, 0, 0, 0, 0, 1, 0, 0, 0, 0, 1, 0, 0, 0, 0, 1, 0, 0, 0, 0, 0, 0, 0, 0, 2, 0, 0, 2, 0, 0, 0, 0, 0, 2, 0, 0, 1, 0, 0, 0, 0, 0, 0, 0, 0, 0, 0, 0, 0, 0, 0, 0, 0, 0, 0, 0, 0, 0, 0, 1, 0, 0, 0, 0, 0, 0, 0, 0, 0, 0, 0, 0, 1, 2, 0, 0, 0, 0, 0, 0, 0, 0, 0, 0, 0, 0, 0, 0, 0, 0, 0, 0, 0, 0, 0, 0, 0, 0, 0, 0, 0, 0, 0, 0, 0, 0, 0, 0, 0, 0, 0, 1, 0, 0, 0, 0, 0, 0, 0, 0, 0, 0, 0, 0, 0, 0, 0, 0, 1, 0, 0, 0, 0, 1, 0, 0, 1, 0, 1, 0, 0, 0, 0, 0, 0, 0, 0, 0, 0, 0, 0, 0, 2, 0, 0, 0, 0, 0, 0, 0, 0, 0, 1, 0, 0, 0, 0, 0, 1, 0, 0, 0, 0, 0, 1, 0, 0, 0, 0, 0, 0, 0, 0, 0, 0, 0, 1, 0, 1, 0, 0, 0, 0, 0, 0, 0, 0, 0, 0, 0, 0, 0, 0, 0, 0, 0, 0, 2, 0, 0, 0, 0, 0, 0, 0, 0, 0, 1, 0, 0, 1, 0, 0, 0, 0, 0, 0, 0, 0, 0, 1, 0, 0, 0, 0, 0, 0, 0, 0, 0, 0, 0, 1, 0, 0, 0, 0, 0, 0, 0, 0, 0, 0, 0, 0, 1, 0, 0, 0, 0, 0, 0, 0, 0, 0, 0, 0, 0, 0, 0, 0, 0, 0, 1, 0, 0, 0, 0, 0, 0, 0, 0, 0, 0, 0, 0, 0, 0, 0, 0, 0, 0, 0, 0, 0, 0, 0, 0, 0, 0, 1, 0, 0, 1, 0, 0, 0, 0, 0, 0, 0, 0, 0, 0, 0, 0, 0, 0, 0, 0, 1, 0, 0, 0, 0, 0, 0, 0, 0, 0, 0, 0, 0, 0, 0, 1, 0, 0, 1, 0, 0, 0, 0, 0, 0, 1, 0, 0, 1, 0, 0, 0, 0, 0, 0, 0, 0, 0, 1, 0, 0, 0, 0, 1, 0, 0, 0, 0, 0, 0, 0, 0, 0, 0, 1, 0, 0, 0, 0, 0, 0, 0, 0, 0, 0, 0, 0, 0, 0, 0, 0, 0, 0, 0, 0, 0, 0, 0, 0, 3, 0, 0, 0, 0, 0, 0, 0, 0, 0, 0, 0, 0, 0, 0, 0, 0, 0, 0, 0, 0, 0, 0, 0, 0, 0, 0, 0, 0, 0, 0, 0, 0, 0, 0, 0, 0, 0, 0, 0, 0, 0, 0, 0, 0, 0, 0, 0, 0, 0, 0, 0, 0, 0, 0, 0, 0, 0, 0, 0, 0, 0, 0, 0, 1, 0, 1, 0, 0, 0, 0, 0, 0, 0, 0, 0, 0, 0, 0, 0, 0, 0, 0, 0, 0, 0, 0, 0, 0, 0, 0, 0, 0, 0, 0, 0, 0, 0, 1, 0, 0, 0, 0, 0, 0, 0, 0, 0, 0, 0, 0, 0, 0, 0, 0, 0, 0, 0, 0, 0, 0, 0, 0, 0, 0, 0, 0, 0, 0, 0, 0, 0, 0, 0, 0, 0, 0, 0, 0, 0, 0, 0, 0, 0, 0, 0, 0, 0, 0, 1, 0, 0, 0, 0, 0, 0, 0, 0, 0, 0, 0, 0, 0, 1, 0, 0, 0, 0, 0, 0, 0, 0, 1, 0, 0, 0, 0, 0, 0, 0, 0, 0, 0, 1, 0, 0, 0, 0, 0, 0, 0, 1, 0, 0, 0, 0, 0, 0, 0, 0, 0, 0, 0, 0, 0, 0, 0, 0, 0, 0, 0, 0, 0, 0, 0, 0, 0, 0, 0, 0, 0, 1, 0, 0, 0, 0, 0, 0, 0, 0, 0, 0, 0, 0, 0, 0, 0, 0, 0, 0, 0, 0, 0, 0, 0, 0, 0, 0, 0, 0, 0, 0, 3, 0, 0, 0, 0, 0, 0, 0, 0, 0, 0, 0, 0, 0, 0, 0, 0, 0, 0, 0, 0, 0, 0, 0, 0, 0, 0, 0, 0, 0, 0, 0, 0, 1, 0, 0, 0, 0, 0, 0, 0, 0, 0, 0, 0, 0, 0, 0, 0, 0, 0, 0, 0, 0, 1, 0, 0, 0, 0, 0, 0, 0, 0, 0, 0, 0, 0, 0, 0, 0, 0, 0, 0, 0, 0, 0, 0, 1, 0, 0, 0, 0, 0, 0, 0, 0, 0, 0, 0, 0, 0, 0, 0, 0, 0, 0, 0, 0, 0, 0, 0, 0, 0, 0, 0, 0, 0, 0, 0, 0, 0, 0, 0, 0, 0, 0, 0, 0, 1, 0, 0, 0, 0, 0, 0, 0, 0, 0, 0, 0, 0, 0, 0, 0, 0, 0, 0, 0, 0, 0, 0, 0, 0, 0, 0, 0, 0, 0, 0, 0, 0, 0, 0, 0, 0, 0, 0, 0, 0, 0, 0, 1, 0, 0, 0, 0, 0, 0, 0, 0, 0, 0, 0, 0, 0, 0, 0, 0, 1, 0, 0, 0, 0, 0, 0, 0, 0, 0, 0, 0, 0, 0, 1, 0, 0, 0, 0, 0, 0, 0, 0, 0, 0, 0, 0, 0, 0, 1, 0, 0, 0, 0, 0, 0, 0, 0, 0, 0, 0, 0, 0, 0, 0, 0, 0, 0, 0, 0, 0, 0, 0, 0, 0, 0, 0, 0, 0, 0, 0, 0, 0, 0, 0, 0, 0, 0, 0, 0, 0, 0, 0, 0, 0, 0, 1, 0, 0, 0, 0, 0, 0, 0, 0, 0, 0, 0, 0, 0, 0, 0, 0, 0, 0, 1, 0, 0, 0, 0, 0, 0, 0, 0, 0, 0, 0, 0, 0, 0, 0, 0, 0, 0, 0, 0, 0, 0, 0, 0, 0, 0, 0, 0, 0, 0, 0, 0, 0, 0, 0, 0, 0, 0, 0, 0, 0, 0, 0, 0, 0, 0, 0, 0, 0, 0, 0, 0, 1, 0, 0, 0, 1, 0, 0, 0, 0, 0, 0, 0, 0, 0, 0, 0, 0, 0, 0, 0, 0, 0, 0, 0, 0, 0, 0, 0, 0, 0, 0, 0, 0, 0, 0, 0, 0, 0, 0, 0, 0, 0, 0, 0, 0, 0, 0, 0, 0, 0, 0, 0, 0, 0, 0, 0, 0, 0, 0, 0, 0, 0, 0, 0, 0, 0, 0, 0, 0, 0, 0, 0, 0, 0, 0, 1, 0, 0, 0, 0, 0, 0, 0, 0, 0, 0, 0, 0, 0, 0, 0, 0, 0, 0, 0, 0, 1, 0, 0, 0, 0, 0, 0, 0, 0, 0, 0, 0, 0, 0, 0, 0, 0, 0, 0, 0, 0, 0, 0, 0, 0, 0, 0, 0, 0, 0, 0, 0, 0, 0, 0, 0, 0, 0, 0, 0, 0, 0, 0, 0, 0, 0, 0, 0, 0, 0, 0, 0, 0, 0, 0, 0, 0, 0, 0, 0, 0, 0, 0, 0, 0, 0, 0, 0, 0, 0, 0, 0, 0, 0, 0, 0, 0, 0, 1, 0, 0, 0, 0, 0, 0, 0, 0, 0, 0, 0, 0, 0, 1, 0, 0, 0, 0, 0, 0, 0, 0, 0, 0, 0, 0, 0, 0, 0, 0, 0, 0, 0, 0, 0, 0, 0, 2, 0, 0, 0, 0, 0, 0, 0, 0, 0, 0, 0, 0, 0, 0, 0, 0, 0, 0, 0, 0, 1, 0, 0, 0, 0, 0, 0, 0, 0, 0, 0, 0, 0, 0, 0, 0, 0, 0, 0, 1, 0, 0, 0, 0, 0, 0, 1, 0, 0, 0, 0, 0, 0, 0, 0, 0, 0, 0, 0, 0, 0, 0, 0, 0, 0, 0, 0, 0, 0, 0, 0, 0, 0, 0, 0, 0, 0, 0, 0, 0, 0, 0, 0, 0, 0, 0, 1, 0, 0, 0, 0, 0, 0, 0, 0, 0, 0, 0, 0, 0, 0, 0, 0, 0, 0, 0, 0, 0, 0, 0, 0, 0, 0, 0, 0, 0, 0, 0, 0, 0, 0, 0, 0, 0, 0, 0, 0, 0, 1, 0, 0, 0, 0, 0, 0, 0, 0, 0, 0, 0, 0, 0, 0, 0, 0, 0, 0, 0, 0, 0, 0, 0, 0, 0, 0, 0, 0, 0, 1, 0, 0, 0, 0, 0, 0, 0, 0, 0, 0, 0, 0, 1, 0, 0, 0, 0, 0, 0, 0, 0, 0, 0, 0, 0, 0, 0, 0, 0, 0, 0, 0, 0, 0, 0, 0, 0, 0, 0, 0, 0, 0, 0, 0, 0, 0, 0, 0, 0, 0, 0, 0, 0, 0, 0, 0, 0, 0, 0, 0, 0, 0, 0, 0, 0, 0, 0, 0, 0, 0, 0, 0, 0, 0, 0, 0, 0, 0, 0, 0, 0, 0, 0, 0, 0, 0, 0, 0, 0, 0, 0, 0, 0, 0, 0, 0, 0, 0, 0, 0, 0, 0, 0, 0, 0, 0, 0, 0, 0, 0, 0, 0, 0, 0, 0, 0, 0, 0, 0, 0, 0, 0, 0, 0, 0, 0, 0, 0, 0, 0, 0, 0, 0, 0, 0, 0, 0, 0, 0, 0, 0, 0, 0, 0, 0, 0, 0, 0, 0, 0, 0, 0, 0, 0, 0, 0, 0, 0, 0, 0, 0, 0, 0, 0, 0, 0, 0, 0, 0, 0, 0, 0, 0, 0, 0, 0, 0, 0, 0, 0, 0, 0, 0, 0, 0, 0, 0, 0, 0, 0, 0, 0, 0, 0, 0, 0, 0, 0, 0, 0, 0, 0, 0, 0, 0, 0, 0, 0, 0, 0, 0, 0, 0, 0, 0, 0, 0, 0, 0, 0, 0, 0, 0, 0, 0, 0, 0, 0, 0, 0, 0, 0, 0, 0, 0, 0, 0, 0, 0, 0, 0, 0, 0, 0, 0, 0, 0, 0, 0, 0, 0, 0, 0, 0, 0, 0, 0, 0, 0, 0, 0, 0, 0, 0, 0, 0, 1, 0, 0, 0, 0, 0, 0, 0, 0, 0, 0, 0, 0, 0, 0, 0, 0, 0, 0, 0, 0, 0, 0, 0, 0, 0, 0, 0, 0, 0, 0, 0, 0, 0, 0, 0, 0, 0, 0, 0, 0, 0, 0, 0, 0, 0, 0, 0, 0, 0, 0, 0, 0, 0, 0, 0, 0, 0, 1, 0, 0, 0, 0, 0, 0, 0, 0, 0, 0, 0, 0, 0, 0, 0, 0, 0, 0, 0, 0, 0, 0, 0, 0, 0, 0, 0, 0, 0, 0, 0, 0, 0, 0, 0, 0, 0, 0, 0, 0, 0, 0, 0, 0, 0, 0, 0, 0, 0, 0, 0, 0, 0, 0, 0, 0, 0, 0, 0, 0, 0, 0, 0, 0, 0, 0, 0, 0, 0, 0, 0, 0, 0, 0, 0, 0, 0, 0, 0, 0, 0, 0, 0, 0, 0, 0, 0, 0, 0, 0, 0, 0, 0, 0, 0, 0, 0, 0, 0, 0, 0, 0, 0, 0, 0, 0, 0, 0, 0, 0, 1, 0, 0, 0, 0, 0, 1, 0, 0, 0, 0, 0, 0, 0, 0, 0, 0, 0, 0, 0, 0, 1, 0, 0, 0, 0, 0, 0, 0, 0, 0, 0, 0, 0, 0, 0, 0, 0, 0, 0, 0, 0, 0, 0, 0, 0, 0, 0, 0, 0, 0, 0, 0, 0, 0, 0, 0, 0, 0, 0, 0, 0, 0, 0, 0, 0, 0, 0, 0, 0, 0, 0, 0, 0, 0, 0, 0, 0, 0, 0, 0, 0, 0, 0, 0, 0, 0, 0, 0, 0, 0, 0, 0, 0, 0, 0, 0, 0, 0, 0, 0, 0, 0, 0, 0, 0, 0, 0, 0, 0, 0, 0, 0, 0, 0, 0, 0, 0, 1, 2, 0, 0, 0, 0, 0, 0, 0, 0, 0, 0, 0, 0, 0, 0, 0, 0, 0, 0, 0, 0, 0, 0, 0, 0, 0, 0, 0, 0, 0, 0, 0, 0, 0, 0, 0, 0, 0, 0, 0, 0, 0, 0, 0, 0, 0, 0, 0, 0, 0, 0, 0, 0, 0, 0, 0, 0, 0, 1, 0, 0, 0, 0, 0, 0, 0, 0, 0, 0, 1, 0, 1, 0, 0, 0, 0, 0, 0, 0, 0, 0, 0, 0, 0, 0, 0, 0, 0, 0, 0, 1, 0, 0, 0, 0, 0, 0, 1, 0, 0, 0, 0, 0, 0, 0, 0, 0, 0, 0, 0, 1, 0, 0, 0, 0, 0, 0, 0, 0, 0, 0, 0, 0, 0, 0, 0, 0, 0, 0, 0, 0, 0, 0, 0, 0, 0, 0, 0, 0, 0, 0, 0, 0, 0, 0, 0, 0, 0, 0, 0, 0, 0, 0, 0, 0, 0, 0, 0, 0, 0, 0, 0, 0, 0, 0, 0, 0, 0, 0, 0, 0, 0, 0, 0, 0, 0, 0, 0, 0, 0, 0, 0, 0, 0, 0, 0, 0, 0, 0, 0, 0, 0, 0, 0, 0, 0, 0, 0, 0, 0, 0, 0, 0, 0, 0, 0, 0, 0, 0, 0, 0, 0, 0, 0, 0, 2, 0, 0, 0, 0, 0, 0, 0, 0, 0, 0, 0, 0, 0, 0, 0, 0, 0, 0, 0, 0, 0, 0, 0, 0, 0, 0, 0, 0, 0, 0, 0, 0, 0, 0, 0, 0, 0, 0, 0, 0, 0, 0, 0, 0, 0, 0, 0, 0, 0, 0, 0, 0, 0, 0, 0, 0, 0, 1, 0, 0, 0, 0, 0, 0, 0, 0, 0, 0, 0, 0, 1, 0, 0, 0, 0, 0, 0, 0, 0, 0, 0, 0, 1, 0, 0, 0, 0, 0, 0, 0, 0, 0, 0, 0, 0, 0, 0, 0, 0, 0, 0, 0, 0, 0, 0, 0, 0, 0, 0, 0, 0, 0, 0, 0, 0, 0, 0, 0, 0, 0, 0, 0, 0, 0, 0, 0, 0, 0, 0, 1, 0, 0, 0, 0, 0, 0, 0, 0, 0, 0, 1, 0, 0, 0, 0, 0, 0, 0, 0, 0, 0, 0, 0, 0, 0, 0, 0, 0, 0, 0, 0, 0, 0, 0, 0, 0, 0, 0, 0, 0, 0, 0, 0, 0, 0, 0, 0, 0, 0, 0, 0, 0, 0, 0, 0, 0, 0, 0, 0, 0, 0, 0, 0, 0, 0, 0, 0, 0, 0, 0, 0, 0, 0, 0, 0, 0, 0, 0, 0, 0, 0, 0, 0, 0, 0, 0, 0, 0, 0, 0, 0, 0, 0, 0, 0, 0, 0, 0, 0, 0, 0, 0, 0, 0, 0, 0, 0, 0, 0, 0, 0, 0, 0, 0, 0, 0, 0, 0, 0, 0, 0, 0, 0, 0, 0, 0, 0, 0, 0, 0, 0, 0, 0, 0, 0, 0, 0, 1, 0, 0, 0, 0, 0, 0, 0, 0, 0, 0, 0, 0, 0, 0, 0, 0, 0, 0, 0, 0, 0, 0, 0, 0, 0, 0, 0, 0, 0, 0, 0, 0, 0, 0, 0, 0, 0, 0, 0, 0, 0, 0, 0, 0, 0, 0, 0, 0, 0, 0, 0, 0, 0, 0, 0, 0, 0, 0, 0, 0, 0, 0, 0, 0, 0, 0, 0, 0, 1, 0, 1, 0, 0, 0, 0, 0, 0, 0, 0, 0, 0, 0, 1, 0, 0, 0, 0, 0, 0, 0, 0, 0, 0, 0, 0, 0, 0, 0, 0, 0, 0, 0, 0, 0, 0, 0, 0, 0, 0, 0, 0, 0, 0, 0, 0, 0, 0, 0, 0, 0, 0, 0, 0, 0, 0, 0, 0, 0, 0, 0, 0, 0, 0, 0, 0, 0, 0, 0, 0, 0, 0, 0, 0, 0, 0, 0, 0, 0, 0, 0, 0, 0, 0, 0, 0, 0, 0, 0, 0, 0, 0, 0, 0, 0, 1, 0, 0, 0, 0, 0, 0, 0, 0, 0, 0, 0, 0, 0, 0, 0, 0, 0, 0, 0, 0, 0, 0, 0, 0, 0, 0, 0, 0, 0, 0, 0, 0, 0, 0, 0, 0, 0, 0, 0, 0, 0, 0, 0, 0, 0, 0, 0, 0, 0, 0, 0, 0, 0, 0, 0, 0, 0, 0, 0, 0, 0, 0, 0, 0, 0, 0, 0, 0, 0, 0, 0, 0, 0, 0, 0, 0, 0, 0, 0, 0, 0, 0, 0, 0, 0, 0, 0, 0, 0, 0, 0, 0, 0, 0, 0, 0, 0, 0, 0, 0, 0, 0, 0, 0, 0, 0, 0, 1, 0, 0, 0, 0, 0, 0, 0, 0, 0, 0, 0, 0, 0, 0, 0, 0, 0, 0, 0, 0, 0, 0, 0, 0, 0, 0, 0, 0, 0, 0, 0, 0, 0, 0, 0, 0, 0, 0, 0, 0, 0, 0, 0, 0, 0, 0, 0, 0, 0, 0, 0, 0, 0, 0, 0, 0, 0, 0, 0, 0, 0, 0, 0, 0]\n"
     ]
    }
   ],
   "source": [
    "feature_vector = extract_email_features('Data\\Train\\spam\\\\1.eml')\n",
    "print(feature_vector)"
   ]
  },
  {
   "cell_type": "code",
   "execution_count": 12,
   "metadata": {},
   "outputs": [],
   "source": [
    "def prepare_data_files(data_path, model = 'svm'):\n",
    "    \n",
    "    ## Matrix of size (m, VOCAB_SIZE)\n",
    "    features = []\n",
    "    ## Vector of size (m)\n",
    "    labels = []\n",
    "    \n",
    "    for email_class in os.listdir(data_path):\n",
    "        if email_class == r'Ham':\n",
    "            label = 0\n",
    "        else:\n",
    "            label = 1\n",
    "        emails_dir = path.join(data_path, email_class)\n",
    "        for email in os.listdir(emails_dir):\n",
    "            email_path = path.join(emails_dir, email)\n",
    "            features.append(extract_email_features(email_path, model))\n",
    "            labels.extend([label])\n",
    "            \n",
    "    X = np.array(features)\n",
    "    y = np.array(labels)\n",
    "    \n",
    "#    print(X.shape)\n",
    "#    print(y.shape)\n",
    "\n",
    "    return X, y    "
   ]
  },
  {
   "cell_type": "code",
   "execution_count": 13,
   "metadata": {},
   "outputs": [],
   "source": [
    "X_train, y_train = prepare_data_files(TRAIN_DATA_PATH)"
   ]
  },
  {
   "cell_type": "code",
   "execution_count": 14,
   "metadata": {},
   "outputs": [
    {
     "name": "stdout",
     "output_type": "stream",
     "text": [
      "(1800, 3000)\n",
      "(1800,)\n",
      "[0 0 0 ... 1 1 1]\n"
     ]
    }
   ],
   "source": [
    "print(X_train.shape)\n",
    "print(y_train.shape)\n",
    "print(y_train)"
   ]
  },
  {
   "cell_type": "code",
   "execution_count": 15,
   "metadata": {},
   "outputs": [],
   "source": [
    "X_cval, y_cval = prepare_data_files(CROSSVAL_DATA_PATH)"
   ]
  },
  {
   "cell_type": "code",
   "execution_count": 16,
   "metadata": {},
   "outputs": [
    {
     "name": "stdout",
     "output_type": "stream",
     "text": [
      "(700, 3000)\n",
      "(700,)\n",
      "[0 0 0 0 0 0 0 0 0 0 0 0 0 0 0 0 0 0 0 0 0 0 0 0 0 0 0 0 0 0 0 0 0 0 0 0 0\n",
      " 0 0 0 0 0 0 0 0 0 0 0 0 0 0 0 0 0 0 0 0 0 0 0 0 0 0 0 0 0 0 0 0 0 0 0 0 0\n",
      " 0 0 0 0 0 0 0 0 0 0 0 0 0 0 0 0 0 0 0 0 0 0 0 0 0 0 0 0 0 0 0 0 0 0 0 0 0\n",
      " 0 0 0 0 0 0 0 0 0 0 0 0 0 0 0 0 0 0 0 0 0 0 0 0 0 0 0 0 0 0 0 0 0 0 0 0 0\n",
      " 0 0 0 0 0 0 0 0 0 0 0 0 0 0 0 0 0 0 0 0 0 0 0 0 0 0 0 0 0 0 0 0 0 0 0 0 0\n",
      " 0 0 0 0 0 0 0 0 0 0 0 0 0 0 0 0 0 0 0 0 0 0 0 0 0 0 0 0 0 0 0 0 0 0 0 0 0\n",
      " 0 0 0 0 0 0 0 0 0 0 0 0 0 0 0 0 0 0 0 0 0 0 0 0 0 0 0 0 0 0 0 0 0 0 0 0 0\n",
      " 0 0 0 0 0 0 0 0 0 0 0 0 0 0 0 0 0 0 0 0 0 0 0 0 0 0 0 0 0 0 0 0 0 0 0 0 0\n",
      " 0 0 0 0 0 0 0 0 0 0 0 0 0 0 0 0 0 0 0 0 0 0 0 0 0 0 0 0 0 0 0 0 0 0 0 0 0\n",
      " 0 0 0 0 0 0 0 0 0 0 0 0 0 0 0 0 0 0 0 0 0 0 0 0 0 0 0 0 0 0 0 0 0 0 0 0 0\n",
      " 0 0 0 0 0 0 0 0 0 0 0 0 0 0 0 0 0 0 0 0 0 0 0 0 0 0 0 0 0 0 0 0 0 0 0 0 0\n",
      " 0 0 0 0 0 0 0 0 0 0 0 0 0 0 0 0 0 0 0 0 0 0 0 0 0 0 0 0 0 0 0 0 0 0 0 0 0\n",
      " 0 0 0 0 0 0 0 0 0 0 0 0 0 0 0 0 0 0 0 0 0 0 0 0 0 0 0 0 0 0 0 0 0 0 0 0 0\n",
      " 0 0 0 0 0 0 0 0 0 0 0 0 0 0 0 0 0 0 0 0 0 0 0 0 0 0 0 0 0 0 0 0 0 0 0 0 0\n",
      " 0 0 0 1 1 1 1 1 1 1 1 1 1 1 1 1 1 1 1 1 1 1 1 1 1 1 1 1 1 1 1 1 1 1 1 1 1\n",
      " 1 1 1 1 1 1 1 1 1 1 1 1 1 1 1 1 1 1 1 1 1 1 1 1 1 1 1 1 1 1 1 1 1 1 1 1 1\n",
      " 1 1 1 1 1 1 1 1 1 1 1 1 1 1 1 1 1 1 1 1 1 1 1 1 1 1 1 1 1 1 1 1 1 1 1 1 1\n",
      " 1 1 1 1 1 1 1 1 1 1 1 1 1 1 1 1 1 1 1 1 1 1 1 1 1 1 1 1 1 1 1 1 1 1 1 1 1\n",
      " 1 1 1 1 1 1 1 1 1 1 1 1 1 1 1 1 1 1 1 1 1 1 1 1 1 1 1 1 1 1 1 1 1 1]\n"
     ]
    }
   ],
   "source": [
    "print(X_cval.shape)\n",
    "print(y_cval.shape)\n",
    "print(y_cval)"
   ]
  },
  {
   "cell_type": "code",
   "execution_count": 17,
   "metadata": {},
   "outputs": [
    {
     "name": "stderr",
     "output_type": "stream",
     "text": [
      "E:\\MyPrograms\\Anaconda3\\lib\\site-packages\\sklearn\\metrics\\classification.py:1135: UndefinedMetricWarning: Precision is ill-defined and being set to 0.0 due to no predicted samples.\n",
      "  'precision', 'predicted', average, warn_for)\n"
     ]
    }
   ],
   "source": [
    "### Training Support vector Machine\n",
    "## Set different values of C\n",
    "C_values = [0.001, 0.01, 0.1, 1, 10, 100, 500, 1000, 2000]\n",
    "train_score = np.zeros(len(C_values))\n",
    "train_recall = np.zeros(len(C_values))\n",
    "train_precision = np.zeros(len(C_values))\n",
    "\n",
    "cv_score = np.zeros(len(C_values))\n",
    "cv_recall = np.zeros(len(C_values))\n",
    "cv_precision = np.zeros(len(C_values))\n",
    "\n",
    "idx = 0\n",
    "for c_val in C_values:\n",
    "    svm = SVC(C = c_val)\n",
    "    svm.fit(X_train, y_train)    \n",
    "    \n",
    "    train_score[idx] = svm.score(X_train, y_train)\n",
    "    train_recall[idx] = metrics.recall_score(y_train, svm.predict(X_train))\n",
    "    train_precision[idx] = metrics.precision_score(y_train, svm.predict(X_train))\n",
    "    \n",
    "    cv_score[idx] = svm.score(X_cval, y_cval)\n",
    "    cv_recall[idx] = metrics.recall_score(y_cval, svm.predict(X_cval))\n",
    "    cv_precision[idx] = metrics.precision_score(y_cval, svm.predict(X_cval))\n",
    "    \n",
    "    idx += 1"
   ]
  },
  {
   "cell_type": "code",
   "execution_count": 18,
   "metadata": {},
   "outputs": [
    {
     "data": {
      "text/html": [
       "<div>\n",
       "<style scoped>\n",
       "    .dataframe tbody tr th:only-of-type {\n",
       "        vertical-align: middle;\n",
       "    }\n",
       "\n",
       "    .dataframe tbody tr th {\n",
       "        vertical-align: top;\n",
       "    }\n",
       "\n",
       "    .dataframe thead th {\n",
       "        text-align: right;\n",
       "    }\n",
       "</style>\n",
       "<table border=\"1\" class=\"dataframe\">\n",
       "  <thead>\n",
       "    <tr style=\"text-align: right;\">\n",
       "      <th></th>\n",
       "      <th>C</th>\n",
       "      <th>Train Accuracy</th>\n",
       "      <th>Train Recall</th>\n",
       "      <th>Train Precision</th>\n",
       "      <th>CV Accuracy</th>\n",
       "      <th>CV Recall</th>\n",
       "      <th>CV Precision</th>\n",
       "    </tr>\n",
       "  </thead>\n",
       "  <tbody>\n",
       "    <tr>\n",
       "      <th>0</th>\n",
       "      <td>0.001</td>\n",
       "      <td>0.666667</td>\n",
       "      <td>0.000000</td>\n",
       "      <td>0.000000</td>\n",
       "      <td>0.744286</td>\n",
       "      <td>0.000000</td>\n",
       "      <td>0.000000</td>\n",
       "    </tr>\n",
       "    <tr>\n",
       "      <th>1</th>\n",
       "      <td>0.010</td>\n",
       "      <td>0.666667</td>\n",
       "      <td>0.000000</td>\n",
       "      <td>0.000000</td>\n",
       "      <td>0.744286</td>\n",
       "      <td>0.000000</td>\n",
       "      <td>0.000000</td>\n",
       "    </tr>\n",
       "    <tr>\n",
       "      <th>2</th>\n",
       "      <td>0.100</td>\n",
       "      <td>0.668889</td>\n",
       "      <td>0.006667</td>\n",
       "      <td>1.000000</td>\n",
       "      <td>0.747143</td>\n",
       "      <td>0.011173</td>\n",
       "      <td>1.000000</td>\n",
       "    </tr>\n",
       "    <tr>\n",
       "      <th>3</th>\n",
       "      <td>1.000</td>\n",
       "      <td>0.846667</td>\n",
       "      <td>0.551667</td>\n",
       "      <td>0.979290</td>\n",
       "      <td>0.870000</td>\n",
       "      <td>0.536313</td>\n",
       "      <td>0.923077</td>\n",
       "    </tr>\n",
       "    <tr>\n",
       "      <th>4</th>\n",
       "      <td>10.000</td>\n",
       "      <td>0.976667</td>\n",
       "      <td>0.938333</td>\n",
       "      <td>0.991197</td>\n",
       "      <td>0.961429</td>\n",
       "      <td>0.899441</td>\n",
       "      <td>0.947059</td>\n",
       "    </tr>\n",
       "    <tr>\n",
       "      <th>5</th>\n",
       "      <td>100.000</td>\n",
       "      <td>0.995556</td>\n",
       "      <td>1.000000</td>\n",
       "      <td>0.986842</td>\n",
       "      <td>0.954286</td>\n",
       "      <td>0.955307</td>\n",
       "      <td>0.876923</td>\n",
       "    </tr>\n",
       "    <tr>\n",
       "      <th>6</th>\n",
       "      <td>500.000</td>\n",
       "      <td>0.998333</td>\n",
       "      <td>1.000000</td>\n",
       "      <td>0.995025</td>\n",
       "      <td>0.952857</td>\n",
       "      <td>0.949721</td>\n",
       "      <td>0.876289</td>\n",
       "    </tr>\n",
       "    <tr>\n",
       "      <th>7</th>\n",
       "      <td>1000.000</td>\n",
       "      <td>0.998889</td>\n",
       "      <td>1.000000</td>\n",
       "      <td>0.996678</td>\n",
       "      <td>0.952857</td>\n",
       "      <td>0.949721</td>\n",
       "      <td>0.876289</td>\n",
       "    </tr>\n",
       "    <tr>\n",
       "      <th>8</th>\n",
       "      <td>2000.000</td>\n",
       "      <td>0.999444</td>\n",
       "      <td>1.000000</td>\n",
       "      <td>0.998336</td>\n",
       "      <td>0.955714</td>\n",
       "      <td>0.944134</td>\n",
       "      <td>0.889474</td>\n",
       "    </tr>\n",
       "  </tbody>\n",
       "</table>\n",
       "</div>"
      ],
      "text/plain": [
       "          C  Train Accuracy  Train Recall  Train Precision  CV Accuracy  \\\n",
       "0     0.001        0.666667      0.000000         0.000000     0.744286   \n",
       "1     0.010        0.666667      0.000000         0.000000     0.744286   \n",
       "2     0.100        0.668889      0.006667         1.000000     0.747143   \n",
       "3     1.000        0.846667      0.551667         0.979290     0.870000   \n",
       "4    10.000        0.976667      0.938333         0.991197     0.961429   \n",
       "5   100.000        0.995556      1.000000         0.986842     0.954286   \n",
       "6   500.000        0.998333      1.000000         0.995025     0.952857   \n",
       "7  1000.000        0.998889      1.000000         0.996678     0.952857   \n",
       "8  2000.000        0.999444      1.000000         0.998336     0.955714   \n",
       "\n",
       "   CV Recall  CV Precision  \n",
       "0   0.000000      0.000000  \n",
       "1   0.000000      0.000000  \n",
       "2   0.011173      1.000000  \n",
       "3   0.536313      0.923077  \n",
       "4   0.899441      0.947059  \n",
       "5   0.955307      0.876923  \n",
       "6   0.949721      0.876289  \n",
       "7   0.949721      0.876289  \n",
       "8   0.944134      0.889474  "
      ]
     },
     "execution_count": 18,
     "metadata": {},
     "output_type": "execute_result"
    }
   ],
   "source": [
    "matrix = np.matrix(np.c_[C_values, train_score, train_recall, train_precision, cv_score, cv_recall, cv_precision])\n",
    "models = pd.DataFrame(data = matrix, columns = ['C', 'Train Accuracy', 'Train Recall', 'Train Precision', 'CV Accuracy', 'CV Recall', 'CV Precision'])\n",
    "\n",
    "models.head(n = 9)"
   ]
  },
  {
   "cell_type": "code",
   "execution_count": 19,
   "metadata": {},
   "outputs": [
    {
     "data": {
      "text/plain": [
       "SVC(C=0.1, cache_size=200, class_weight=None, coef0=0.0,\n",
       "  decision_function_shape='ovr', degree=3, gamma='auto', kernel='rbf',\n",
       "  max_iter=-1, probability=False, random_state=None, shrinking=True,\n",
       "  tol=0.001, verbose=False)"
      ]
     },
     "execution_count": 19,
     "metadata": {},
     "output_type": "execute_result"
    }
   ],
   "source": [
    "## get model with Precision = 1 and biggest Accuracy\n",
    "best_model_idx =  models[models['CV Precision']==1]['CV Accuracy'].idxmax()\n",
    "best_C = C_values[best_model_idx]\n",
    "\n",
    "models.iloc[best_model_idx, :]\n",
    "\n",
    "svm = SVC(C = best_C)\n",
    "svm.fit(X_train, y_train) "
   ]
  },
  {
   "cell_type": "code",
   "execution_count": 20,
   "metadata": {},
   "outputs": [],
   "source": [
    "train_confusion_matrix = confusion_matrix(y_train, svm.predict(X_train))"
   ]
  },
  {
   "cell_type": "code",
   "execution_count": 21,
   "metadata": {},
   "outputs": [
    {
     "name": "stdout",
     "output_type": "stream",
     "text": [
      "[[1200    0]\n",
      " [ 596    4]]\n"
     ]
    }
   ],
   "source": [
    "print(train_confusion_matrix)"
   ]
  },
  {
   "cell_type": "code",
   "execution_count": 22,
   "metadata": {},
   "outputs": [],
   "source": [
    "cv_confusion_matrix = confusion_matrix(y_cval, svm.predict(X_cval))"
   ]
  },
  {
   "cell_type": "code",
   "execution_count": 23,
   "metadata": {},
   "outputs": [
    {
     "name": "stdout",
     "output_type": "stream",
     "text": [
      "[[521   0]\n",
      " [177   2]]\n"
     ]
    }
   ],
   "source": [
    "print(cv_confusion_matrix)"
   ]
  },
  {
   "cell_type": "code",
   "execution_count": 24,
   "metadata": {},
   "outputs": [],
   "source": [
    "### Training MultinomialNB\n",
    "## Set different values of Alpha\n",
    "alpha_values = [0.001, 0.005, 0.01, 0.05, 0.1, 0.5, 1, 10, 20]\n",
    "train_score = np.zeros(len(alpha_values))\n",
    "train_recall = np.zeros(len(alpha_values))\n",
    "train_precision = np.zeros(len(alpha_values))\n",
    "\n",
    "cv_score = np.zeros(len(alpha_values))\n",
    "cv_recall = np.zeros(len(alpha_values))\n",
    "cv_precision = np.zeros(len(alpha_values))\n",
    "\n",
    "idx = 0\n",
    "for alpha_val in alpha_values:\n",
    "    mNB = MultinomialNB(alpha = alpha_val)\n",
    "    mNB.fit(X_train, y_train)    \n",
    "    \n",
    "    train_score[idx] = mNB.score(X_train, y_train)\n",
    "    mNB_predictions = mNB.predict(X_train)\n",
    "    train_recall[idx] = metrics.recall_score(y_train, mNB_predictions)\n",
    "    train_precision[idx] = metrics.precision_score(y_train, mNB_predictions)\n",
    "    \n",
    "    cv_score[idx] = mNB.score(X_cval, y_cval)\n",
    "    mNB_predictions = mNB.predict(X_cval)\n",
    "    cv_recall[idx] = metrics.recall_score(y_cval, mNB_predictions)\n",
    "    cv_precision[idx] = metrics.precision_score(y_cval, mNB_predictions)\n",
    "    \n",
    "    idx += 1"
   ]
  },
  {
   "cell_type": "code",
   "execution_count": 25,
   "metadata": {},
   "outputs": [
    {
     "data": {
      "text/html": [
       "<div>\n",
       "<style scoped>\n",
       "    .dataframe tbody tr th:only-of-type {\n",
       "        vertical-align: middle;\n",
       "    }\n",
       "\n",
       "    .dataframe tbody tr th {\n",
       "        vertical-align: top;\n",
       "    }\n",
       "\n",
       "    .dataframe thead th {\n",
       "        text-align: right;\n",
       "    }\n",
       "</style>\n",
       "<table border=\"1\" class=\"dataframe\">\n",
       "  <thead>\n",
       "    <tr style=\"text-align: right;\">\n",
       "      <th></th>\n",
       "      <th>Alpha</th>\n",
       "      <th>Train Accuracy</th>\n",
       "      <th>Train Recall</th>\n",
       "      <th>Train Precision</th>\n",
       "      <th>CV Accuracy</th>\n",
       "      <th>CV Recall</th>\n",
       "      <th>CV Precision</th>\n",
       "    </tr>\n",
       "  </thead>\n",
       "  <tbody>\n",
       "    <tr>\n",
       "      <th>0</th>\n",
       "      <td>0.001</td>\n",
       "      <td>0.942222</td>\n",
       "      <td>0.856667</td>\n",
       "      <td>0.966165</td>\n",
       "      <td>0.942857</td>\n",
       "      <td>0.849162</td>\n",
       "      <td>0.921212</td>\n",
       "    </tr>\n",
       "    <tr>\n",
       "      <th>1</th>\n",
       "      <td>0.005</td>\n",
       "      <td>0.941667</td>\n",
       "      <td>0.855000</td>\n",
       "      <td>0.966102</td>\n",
       "      <td>0.942857</td>\n",
       "      <td>0.849162</td>\n",
       "      <td>0.921212</td>\n",
       "    </tr>\n",
       "    <tr>\n",
       "      <th>2</th>\n",
       "      <td>0.010</td>\n",
       "      <td>0.941111</td>\n",
       "      <td>0.855000</td>\n",
       "      <td>0.964286</td>\n",
       "      <td>0.944286</td>\n",
       "      <td>0.849162</td>\n",
       "      <td>0.926829</td>\n",
       "    </tr>\n",
       "    <tr>\n",
       "      <th>3</th>\n",
       "      <td>0.050</td>\n",
       "      <td>0.940556</td>\n",
       "      <td>0.853333</td>\n",
       "      <td>0.964218</td>\n",
       "      <td>0.945714</td>\n",
       "      <td>0.849162</td>\n",
       "      <td>0.932515</td>\n",
       "    </tr>\n",
       "    <tr>\n",
       "      <th>4</th>\n",
       "      <td>0.100</td>\n",
       "      <td>0.940000</td>\n",
       "      <td>0.851667</td>\n",
       "      <td>0.964151</td>\n",
       "      <td>0.945714</td>\n",
       "      <td>0.849162</td>\n",
       "      <td>0.932515</td>\n",
       "    </tr>\n",
       "    <tr>\n",
       "      <th>5</th>\n",
       "      <td>0.500</td>\n",
       "      <td>0.938889</td>\n",
       "      <td>0.850000</td>\n",
       "      <td>0.962264</td>\n",
       "      <td>0.944286</td>\n",
       "      <td>0.849162</td>\n",
       "      <td>0.926829</td>\n",
       "    </tr>\n",
       "    <tr>\n",
       "      <th>6</th>\n",
       "      <td>1.000</td>\n",
       "      <td>0.938333</td>\n",
       "      <td>0.848333</td>\n",
       "      <td>0.962193</td>\n",
       "      <td>0.945714</td>\n",
       "      <td>0.854749</td>\n",
       "      <td>0.927273</td>\n",
       "    </tr>\n",
       "    <tr>\n",
       "      <th>7</th>\n",
       "      <td>10.000</td>\n",
       "      <td>0.932778</td>\n",
       "      <td>0.828333</td>\n",
       "      <td>0.965049</td>\n",
       "      <td>0.934286</td>\n",
       "      <td>0.832402</td>\n",
       "      <td>0.903030</td>\n",
       "    </tr>\n",
       "    <tr>\n",
       "      <th>8</th>\n",
       "      <td>20.000</td>\n",
       "      <td>0.927778</td>\n",
       "      <td>0.810000</td>\n",
       "      <td>0.968127</td>\n",
       "      <td>0.932857</td>\n",
       "      <td>0.798883</td>\n",
       "      <td>0.928571</td>\n",
       "    </tr>\n",
       "  </tbody>\n",
       "</table>\n",
       "</div>"
      ],
      "text/plain": [
       "    Alpha  Train Accuracy  Train Recall  Train Precision  CV Accuracy  \\\n",
       "0   0.001        0.942222      0.856667         0.966165     0.942857   \n",
       "1   0.005        0.941667      0.855000         0.966102     0.942857   \n",
       "2   0.010        0.941111      0.855000         0.964286     0.944286   \n",
       "3   0.050        0.940556      0.853333         0.964218     0.945714   \n",
       "4   0.100        0.940000      0.851667         0.964151     0.945714   \n",
       "5   0.500        0.938889      0.850000         0.962264     0.944286   \n",
       "6   1.000        0.938333      0.848333         0.962193     0.945714   \n",
       "7  10.000        0.932778      0.828333         0.965049     0.934286   \n",
       "8  20.000        0.927778      0.810000         0.968127     0.932857   \n",
       "\n",
       "   CV Recall  CV Precision  \n",
       "0   0.849162      0.921212  \n",
       "1   0.849162      0.921212  \n",
       "2   0.849162      0.926829  \n",
       "3   0.849162      0.932515  \n",
       "4   0.849162      0.932515  \n",
       "5   0.849162      0.926829  \n",
       "6   0.854749      0.927273  \n",
       "7   0.832402      0.903030  \n",
       "8   0.798883      0.928571  "
      ]
     },
     "execution_count": 25,
     "metadata": {},
     "output_type": "execute_result"
    }
   ],
   "source": [
    "matrix = np.matrix(np.c_[alpha_values, train_score, train_recall, train_precision, cv_score, cv_recall, cv_precision])\n",
    "models = pd.DataFrame(data = matrix, columns = ['Alpha', 'Train Accuracy', 'Train Recall', 'Train Precision', 'CV Accuracy', 'CV Recall', 'CV Precision'])\n",
    "\n",
    "models.head(n = 9)"
   ]
  },
  {
   "cell_type": "code",
   "execution_count": 26,
   "metadata": {},
   "outputs": [
    {
     "data": {
      "text/plain": [
       "MultinomialNB(alpha=0.05, class_prior=None, fit_prior=True)"
      ]
     },
     "execution_count": 26,
     "metadata": {},
     "output_type": "execute_result"
    }
   ],
   "source": [
    "## Get index of model with max precision\n",
    "best_model_index = models['CV Precision'].idxmax()\n",
    "best_alpha = alpha_values[best_model_index]\n",
    "\n",
    "models.iloc[best_model_index, :]\n",
    "\n",
    "mNB = MultinomialNB(alpha = best_alpha)\n",
    "mNB.fit(X_train, y_train)"
   ]
  },
  {
   "cell_type": "code",
   "execution_count": 27,
   "metadata": {},
   "outputs": [],
   "source": [
    "X_train_bNB, y_train_bNB = prepare_data_files(TRAIN_DATA_PATH, 'bernoulliNB')\n",
    "X_cval_bNB, y_cval_bNB = prepare_data_files(CROSSVAL_DATA_PATH, 'bernoulliNB')"
   ]
  },
  {
   "cell_type": "code",
   "execution_count": 28,
   "metadata": {},
   "outputs": [],
   "source": [
    "### Training MultinomialNB\n",
    "## Set different values of Alpha\n",
    "alpha_values = [0.001, 0.005, 0.01, 0.05, 0.1, 0.5, 1, 10, 20]\n",
    "train_score = np.zeros(len(alpha_values))\n",
    "train_recall = np.zeros(len(alpha_values))\n",
    "train_precision = np.zeros(len(alpha_values))\n",
    "\n",
    "cv_score = np.zeros(len(alpha_values))\n",
    "cv_recall = np.zeros(len(alpha_values))\n",
    "cv_precision = np.zeros(len(alpha_values))\n",
    "\n",
    "idx = 0\n",
    "for alpha_val in alpha_values:\n",
    "    bNB = BernoulliNB(alpha = alpha_val)\n",
    "    bNB.fit(X_train_bNB, y_train_bNB)    \n",
    "    \n",
    "    train_score[idx] = bNB.score(X_train_bNB, y_train_bNB)\n",
    "    bNB_predictions = bNB.predict(X_train_bNB)\n",
    "    train_recall[idx] = metrics.recall_score(y_train_bNB, bNB_predictions)\n",
    "    train_precision[idx] = metrics.precision_score(y_train_bNB, bNB_predictions)\n",
    "    \n",
    "    cv_score[idx] = bNB.score(X_cval_bNB, y_cval_bNB)\n",
    "    bNB_predictions = bNB.predict(X_cval_bNB)\n",
    "    cv_recall[idx] = metrics.recall_score(y_cval_bNB, bNB_predictions)\n",
    "    cv_precision[idx] = metrics.precision_score(y_cval_bNB, bNB_predictions)\n",
    "    \n",
    "    idx += 1"
   ]
  },
  {
   "cell_type": "code",
   "execution_count": 29,
   "metadata": {},
   "outputs": [
    {
     "data": {
      "text/html": [
       "<div>\n",
       "<style scoped>\n",
       "    .dataframe tbody tr th:only-of-type {\n",
       "        vertical-align: middle;\n",
       "    }\n",
       "\n",
       "    .dataframe tbody tr th {\n",
       "        vertical-align: top;\n",
       "    }\n",
       "\n",
       "    .dataframe thead th {\n",
       "        text-align: right;\n",
       "    }\n",
       "</style>\n",
       "<table border=\"1\" class=\"dataframe\">\n",
       "  <thead>\n",
       "    <tr style=\"text-align: right;\">\n",
       "      <th></th>\n",
       "      <th>Alpha</th>\n",
       "      <th>Train Accuracy</th>\n",
       "      <th>Train Recall</th>\n",
       "      <th>Train Precision</th>\n",
       "      <th>CV Accuracy</th>\n",
       "      <th>CV Recall</th>\n",
       "      <th>CV Precision</th>\n",
       "    </tr>\n",
       "  </thead>\n",
       "  <tbody>\n",
       "    <tr>\n",
       "      <th>0</th>\n",
       "      <td>0.001</td>\n",
       "      <td>0.901667</td>\n",
       "      <td>0.765000</td>\n",
       "      <td>0.927273</td>\n",
       "      <td>0.914286</td>\n",
       "      <td>0.776536</td>\n",
       "      <td>0.874214</td>\n",
       "    </tr>\n",
       "    <tr>\n",
       "      <th>1</th>\n",
       "      <td>0.005</td>\n",
       "      <td>0.901667</td>\n",
       "      <td>0.765000</td>\n",
       "      <td>0.927273</td>\n",
       "      <td>0.908571</td>\n",
       "      <td>0.776536</td>\n",
       "      <td>0.852761</td>\n",
       "    </tr>\n",
       "    <tr>\n",
       "      <th>2</th>\n",
       "      <td>0.010</td>\n",
       "      <td>0.900556</td>\n",
       "      <td>0.763333</td>\n",
       "      <td>0.925253</td>\n",
       "      <td>0.907143</td>\n",
       "      <td>0.776536</td>\n",
       "      <td>0.847561</td>\n",
       "    </tr>\n",
       "    <tr>\n",
       "      <th>3</th>\n",
       "      <td>0.050</td>\n",
       "      <td>0.896667</td>\n",
       "      <td>0.761667</td>\n",
       "      <td>0.914000</td>\n",
       "      <td>0.902857</td>\n",
       "      <td>0.770950</td>\n",
       "      <td>0.836364</td>\n",
       "    </tr>\n",
       "    <tr>\n",
       "      <th>4</th>\n",
       "      <td>0.100</td>\n",
       "      <td>0.894444</td>\n",
       "      <td>0.758333</td>\n",
       "      <td>0.910000</td>\n",
       "      <td>0.902857</td>\n",
       "      <td>0.770950</td>\n",
       "      <td>0.836364</td>\n",
       "    </tr>\n",
       "    <tr>\n",
       "      <th>5</th>\n",
       "      <td>0.500</td>\n",
       "      <td>0.885000</td>\n",
       "      <td>0.741667</td>\n",
       "      <td>0.895372</td>\n",
       "      <td>0.895714</td>\n",
       "      <td>0.748603</td>\n",
       "      <td>0.827160</td>\n",
       "    </tr>\n",
       "    <tr>\n",
       "      <th>6</th>\n",
       "      <td>1.000</td>\n",
       "      <td>0.877778</td>\n",
       "      <td>0.721667</td>\n",
       "      <td>0.890947</td>\n",
       "      <td>0.887143</td>\n",
       "      <td>0.720670</td>\n",
       "      <td>0.816456</td>\n",
       "    </tr>\n",
       "    <tr>\n",
       "      <th>7</th>\n",
       "      <td>10.000</td>\n",
       "      <td>0.781111</td>\n",
       "      <td>0.436667</td>\n",
       "      <td>0.823899</td>\n",
       "      <td>0.811429</td>\n",
       "      <td>0.430168</td>\n",
       "      <td>0.719626</td>\n",
       "    </tr>\n",
       "    <tr>\n",
       "      <th>8</th>\n",
       "      <td>20.000</td>\n",
       "      <td>0.733333</td>\n",
       "      <td>0.280000</td>\n",
       "      <td>0.777778</td>\n",
       "      <td>0.782857</td>\n",
       "      <td>0.268156</td>\n",
       "      <td>0.695652</td>\n",
       "    </tr>\n",
       "  </tbody>\n",
       "</table>\n",
       "</div>"
      ],
      "text/plain": [
       "    Alpha  Train Accuracy  Train Recall  Train Precision  CV Accuracy  \\\n",
       "0   0.001        0.901667      0.765000         0.927273     0.914286   \n",
       "1   0.005        0.901667      0.765000         0.927273     0.908571   \n",
       "2   0.010        0.900556      0.763333         0.925253     0.907143   \n",
       "3   0.050        0.896667      0.761667         0.914000     0.902857   \n",
       "4   0.100        0.894444      0.758333         0.910000     0.902857   \n",
       "5   0.500        0.885000      0.741667         0.895372     0.895714   \n",
       "6   1.000        0.877778      0.721667         0.890947     0.887143   \n",
       "7  10.000        0.781111      0.436667         0.823899     0.811429   \n",
       "8  20.000        0.733333      0.280000         0.777778     0.782857   \n",
       "\n",
       "   CV Recall  CV Precision  \n",
       "0   0.776536      0.874214  \n",
       "1   0.776536      0.852761  \n",
       "2   0.776536      0.847561  \n",
       "3   0.770950      0.836364  \n",
       "4   0.770950      0.836364  \n",
       "5   0.748603      0.827160  \n",
       "6   0.720670      0.816456  \n",
       "7   0.430168      0.719626  \n",
       "8   0.268156      0.695652  "
      ]
     },
     "execution_count": 29,
     "metadata": {},
     "output_type": "execute_result"
    }
   ],
   "source": [
    "matrix = np.matrix(np.c_[alpha_values, train_score, train_recall, train_precision, cv_score, cv_recall, cv_precision])\n",
    "models = pd.DataFrame(data = matrix, columns = ['Alpha', 'Train Accuracy', 'Train Recall', 'Train Precision', 'CV Accuracy', 'CV Recall', 'CV Precision'])\n",
    "\n",
    "models.head(n = 9)"
   ]
  },
  {
   "cell_type": "code",
   "execution_count": 30,
   "metadata": {},
   "outputs": [
    {
     "data": {
      "text/plain": [
       "BernoulliNB(alpha=0.001, binarize=0.0, class_prior=None, fit_prior=True)"
      ]
     },
     "execution_count": 30,
     "metadata": {},
     "output_type": "execute_result"
    }
   ],
   "source": [
    "## Get index of model with max precision\n",
    "best_model_index = models['CV Precision'].idxmax()\n",
    "best_alpha = alpha_values[best_model_index]\n",
    "\n",
    "models.iloc[best_model_index, :]\n",
    "\n",
    "bNB = BernoulliNB(alpha = best_alpha)\n",
    "bNB.fit(X_train, y_train)"
   ]
  },
  {
   "cell_type": "code",
   "execution_count": null,
   "metadata": {},
   "outputs": [],
   "source": []
  }
 ],
 "metadata": {
  "kernelspec": {
   "display_name": "Python 3",
   "language": "python",
   "name": "python3"
  },
  "language_info": {
   "codemirror_mode": {
    "name": "ipython",
    "version": 3
   },
   "file_extension": ".py",
   "mimetype": "text/x-python",
   "name": "python",
   "nbconvert_exporter": "python",
   "pygments_lexer": "ipython3",
   "version": "3.6.5"
  }
 },
 "nbformat": 4,
 "nbformat_minor": 2
}
