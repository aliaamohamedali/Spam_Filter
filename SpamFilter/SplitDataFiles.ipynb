{
 "cells": [
  {
   "cell_type": "code",
   "execution_count": 1,
   "metadata": {},
   "outputs": [],
   "source": [
    "import os\n",
    "import re\n",
    "import pandas as pd\n",
    "from os import path\n",
    "from shutil import copyfile"
   ]
  },
  {
   "cell_type": "code",
   "execution_count": 2,
   "metadata": {},
   "outputs": [],
   "source": [
    "DATA_DIRECTORY = 'DataSources\\TR'\n",
    "SPAM_TRAIN_DIRECTORY = 'Data\\Train\\Spam'\n",
    "HAM_TRAIN_DIRECTORY = 'Data\\Train\\Ham'\n",
    "SPAM_CROSSVAL_DIRECTORY = 'Data\\CrossVal\\Spam'\n",
    "HAM_CROSSVAL_DIRECTORY = 'Data\\CrossVal\\Ham'"
   ]
  },
  {
   "cell_type": "code",
   "execution_count": 3,
   "metadata": {},
   "outputs": [],
   "source": [
    "labels = pd.read_csv('labels.csv')\n",
    "# print(labels)\n",
    "# spam_ids = labels.loc[labels['Prediction']==0, 'Id']\n",
    "# print(spam_ids)"
   ]
  },
  {
   "cell_type": "code",
   "execution_count": 6,
   "metadata": {},
   "outputs": [],
   "source": [
    "spam_email_count = 0\n",
    "ham_email_count = 0\n",
    "SPAM_TRAIN_COUNT = 600 # 0.7 of spam emails\n",
    "HAM_TRAIN_COUNT = 1200 # 0.7 of ham emails\n",
    "for file in os.listdir(DATA_DIRECTORY):\n",
    "    file_id = re.sub(r\"\\D\", \"\", file)\n",
    "    src = path.join(DATA_DIRECTORY, file)\n",
    "    dest_file_name = file_id + '.eml'\n",
    "    if labels.loc[int(file_id)-1, 'Prediction'] == 0: # If email is spam\n",
    "        # Copy file to spam directory\n",
    "        spam_email_count += 1\n",
    "        if spam_email_count > SPAM_TRAIN_COUNT:\n",
    "            dest = path.join(SPAM_CROSSVAL_DIRECTORY, dest_file_name)\n",
    "        else:\n",
    "            dest = path.join(SPAM_TRAIN_DIRECTORY, dest_file_name)\n",
    "        copyfile(src, dest)\n",
    "    else:\n",
    "        # Copy file to ham directory\n",
    "        ham_email_count += 1\n",
    "        if ham_email_count > HAM_TRAIN_COUNT:\n",
    "            dest = path.join(HAM_CROSSVAL_DIRECTORY, dest_file_name)\n",
    "        else:\n",
    "            dest = path.join(HAM_TRAIN_DIRECTORY, dest_file_name)\n",
    "        copyfile(src, dest)   "
   ]
  },
  {
   "cell_type": "code",
   "execution_count": null,
   "metadata": {},
   "outputs": [],
   "source": []
  }
 ],
 "metadata": {
  "kernelspec": {
   "display_name": "Python 3",
   "language": "python",
   "name": "python3"
  },
  "language_info": {
   "codemirror_mode": {
    "name": "ipython",
    "version": 3
   },
   "file_extension": ".py",
   "mimetype": "text/x-python",
   "name": "python",
   "nbconvert_exporter": "python",
   "pygments_lexer": "ipython3",
   "version": "3.6.5"
  }
 },
 "nbformat": 4,
 "nbformat_minor": 2
}
